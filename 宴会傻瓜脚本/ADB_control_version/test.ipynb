{
 "cells": [
  {
   "cell_type": "code",
   "execution_count": 1,
   "metadata": {},
   "outputs": [],
   "source": [
    "from test_function import *"
   ]
  },
  {
   "cell_type": "code",
   "execution_count": 11,
   "metadata": {},
   "outputs": [
    {
     "name": "stdout",
     "output_type": "stream",
     "text": [
      "obtain_screenshot: img_name = luo_tuo0.png\n",
      "obtain_screenshot: img_name = luo_tuo0.png end\n",
      "obtain_screenshot: img_name = luo_tuo1.png\n",
      "obtain_screenshot: img_name = luo_tuo1.png end\n",
      "obtain_screenshot: img_name = luo_tuo2.png\n",
      "obtain_screenshot: img_name = luo_tuo2.png end\n",
      "obtain_screenshot: img_name = luo_tuo3.png\n",
      "obtain_screenshot: img_name = luo_tuo3.png end\n",
      "obtain_screenshot: img_name = luo_tuo4.png\n",
      "obtain_screenshot: img_name = luo_tuo4.png end\n",
      "obtain_screenshot: img_name = luo_tuo5.png\n",
      "obtain_screenshot: img_name = luo_tuo5.png end\n",
      "obtain_screenshot: img_name = luo_tuo6.png\n",
      "obtain_screenshot: img_name = luo_tuo6.png end\n",
      "obtain_screenshot: img_name = luo_tuo7.png\n",
      "obtain_screenshot: img_name = luo_tuo7.png end\n",
      "obtain_screenshot: img_name = luo_tuo8.png\n",
      "obtain_screenshot: img_name = luo_tuo8.png end\n",
      "obtain_screenshot: img_name = luo_tuo9.png\n",
      "obtain_screenshot: img_name = luo_tuo9.png end\n"
     ]
    }
   ],
   "source": [
    "import os\n",
    "\n",
    "img_dir = \"imgs/luo_tuo\"\n",
    "if not os.path.exists(img_dir):\n",
    "    os.makedirs(img_dir)\n",
    "for i in range(10):\n",
    "    name = \"luo_tuo\" + str(i) + \".png\"\n",
    "    obtain_screenshot(name, local_dir=img_dir)"
   ]
  },
  {
   "cell_type": "code",
   "execution_count": 17,
   "metadata": {},
   "outputs": [
    {
     "name": "stdout",
     "output_type": "stream",
     "text": [
      "Renamed 'imgs/luo_tuo0.png' to 'imgs/luo_tuo10.png'\n",
      "Renamed 'imgs/luo_tuo1.png' to 'imgs/luo_tuo11.png'\n",
      "Renamed 'imgs/luo_tuo2.png' to 'imgs/luo_tuo12.png'\n",
      "Renamed 'imgs/luo_tuo3.png' to 'imgs/luo_tuo13.png'\n",
      "Renamed 'imgs/luo_tuo4.png' to 'imgs/luo_tuo14.png'\n",
      "Renamed 'imgs/luo_tuo5.png' to 'imgs/luo_tuo15.png'\n",
      "Renamed 'imgs/luo_tuo6.png' to 'imgs/luo_tuo16.png'\n",
      "Renamed 'imgs/luo_tuo7.png' to 'imgs/luo_tuo17.png'\n",
      "Renamed 'imgs/luo_tuo8.png' to 'imgs/luo_tuo18.png'\n",
      "Renamed 'imgs/luo_tuo9.png' to 'imgs/luo_tuo19.png'\n"
     ]
    }
   ],
   "source": [
    "import os\n",
    "\n",
    "for i in range(10):\n",
    "    img = \"imgs/luo_tuo\"\n",
    "    old_name = f\"{img}{i}.png\"\n",
    "    new_name = f\"{img}{i+10}.png\"\n",
    "    try:\n",
    "        os.rename(old_name, new_name)\n",
    "        print(f\"Renamed '{old_name}' to '{new_name}'\")\n",
    "    except FileNotFoundError:\n",
    "        print(f\"File '{old_name}' not found.\")\n",
    "    except OSError as e:\n",
    "        print(f\"Error occurred while renaming '{old_name}': {e}\")"
   ]
  },
  {
   "cell_type": "code",
   "execution_count": 3,
   "metadata": {},
   "outputs": [
    {
     "name": "stdout",
     "output_type": "stream",
     "text": [
      "c:\\Users\\97738\\Desktop\\call_me_DZG\\宴会傻瓜脚本\\ADB_control_version\n"
     ]
    }
   ],
   "source": [
    "import os\n",
    "print(os.getcwd())"
   ]
  }
 ],
 "metadata": {
  "kernelspec": {
   "display_name": "call_me_dzg",
   "language": "python",
   "name": "python3"
  },
  "language_info": {
   "codemirror_mode": {
    "name": "ipython",
    "version": 3
   },
   "file_extension": ".py",
   "mimetype": "text/x-python",
   "name": "python",
   "nbconvert_exporter": "python",
   "pygments_lexer": "ipython3",
   "version": "3.10.14"
  }
 },
 "nbformat": 4,
 "nbformat_minor": 2
}
