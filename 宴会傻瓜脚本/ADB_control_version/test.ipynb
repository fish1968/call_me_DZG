{
 "cells": [
  {
   "cell_type": "code",
   "execution_count": 1,
   "metadata": {},
   "outputs": [
    {
     "name": "stdout",
     "output_type": "stream",
     "text": [
      "device is localhost:5555\n",
      "adb connected to localhost:5555\n",
      "This function needs future attention!\n",
      "This function needs future attention!\n",
      "Enter emulator successfully\n",
      "ADB 尝试连接\n",
      "device is localhost:5555\n",
      "adb connected to localhost:5555\n",
      "device is localhost:5555\n",
      "adb connected to localhost:5555\n",
      "This function needs future attention!\n",
      "Enter game com.sqwh5.ys.jwdzg.jwdzgh5_ptzy_ysf37/com.gamesdk.h5.GameActivity successfully\n",
      "\t点击开始界面\n",
      "\t点击开始\n",
      "click_wait with total time: 10, sleep_time: 1\n",
      "click_wait ends\n",
      "等待进入home界面, 离线收益...\n",
      "\t\t点击离线收益\n",
      "\tenter_men_ke 进入门客界面 begin\n",
      "\tenter_men_ke 进入门客界面 ends\n",
      "\t\t点击进入活动\n",
      "\tenter_men_ke 进入门客界面 begin\n",
      "\tenter_men_ke 进入门客界面 ends\n",
      "\tenter_men_ke 进入门客界面 begin\n",
      "\tenter_men_ke 进入门客界面 ends\n",
      "\tenter_men_ke 进入门客界面 begin\n",
      "\tenter_men_ke 进入门客界面 ends\n",
      "\tenter_home 进入首页界面 begin\n",
      "\tenter_home 进入首页界面 end\n",
      "start_apk_game  启动游戏结束\n",
      "176.5083270072937\n"
     ]
    }
   ],
   "source": [
    "from test_function import *"
   ]
  },
  {
   "cell_type": "code",
   "execution_count": 7,
   "metadata": {},
   "outputs": [
    {
     "name": "stdout",
     "output_type": "stream",
     "text": [
      "obtain_screenshot: img_name = kua_fu_yan_hui_page.png\n",
      "obtain_screenshot: img_name = kua_fu_yan_hui_page.png end\n"
     ]
    }
   ],
   "source": [
    "name = \"kua_fu_yan_hui_page\" + \".png\"\n",
    "obtain_screenshot(name)"
   ]
  }
 ],
 "metadata": {
  "kernelspec": {
   "display_name": "call_me_dzg",
   "language": "python",
   "name": "python3"
  },
  "language_info": {
   "codemirror_mode": {
    "name": "ipython",
    "version": 3
   },
   "file_extension": ".py",
   "mimetype": "text/x-python",
   "name": "python",
   "nbconvert_exporter": "python",
   "pygments_lexer": "ipython3",
   "version": "3.10.14"
  }
 },
 "nbformat": 4,
 "nbformat_minor": 2
}
