{
 "cells": [
  {
   "cell_type": "code",
   "execution_count": 1,
   "metadata": {},
   "outputs": [
    {
     "name": "stdout",
     "output_type": "stream",
     "text": [
      "c:\\Users\\97738\\Desktop\\call_me_DZG\\宴会傻瓜脚本\\ADB_control_version\n"
     ]
    }
   ],
   "source": [
    "# testing functions\n",
    "import subprocess\n",
    "import time\n",
    "import set_project_dir\n",
    "from ADB_project.functions.functions import activate_cache, obtain_screenshot\n",
    "\n",
    "from test_function import *"
   ]
  },
  {
   "cell_type": "code",
   "execution_count": 2,
   "metadata": {},
   "outputs": [
    {
     "name": "stdout",
     "output_type": "stream",
     "text": [
      "device is localhost:5555\n",
      "adb connected to localhost:5555\n",
      "obtain_screenshot: img_name = test.png\n",
      "obtain_screenshot: img_name = test.png end\n",
      "2.318474769592285\n"
     ]
    }
   ],
   "source": [
    "test_function(obtain_screenshot)"
   ]
  },
  {
   "cell_type": "code",
   "execution_count": 3,
   "metadata": {},
   "outputs": [
    {
     "name": "stdout",
     "output_type": "stream",
     "text": [
      "obtain_screenshot: img_name = start0.png\n",
      "obtain_screenshot: img_name = start0.png end\n",
      "obtain_screenshot: img_name = start1.png\n",
      "obtain_screenshot: img_name = start1.png end\n",
      "obtain_screenshot: img_name = start2.png\n",
      "obtain_screenshot: img_name = start2.png end\n",
      "obtain_screenshot: img_name = start3.png\n",
      "obtain_screenshot: img_name = start3.png end\n",
      "obtain_screenshot: img_name = start4.png\n",
      "obtain_screenshot: img_name = start4.png end\n",
      "obtain_screenshot: img_name = start5.png\n",
      "obtain_screenshot: img_name = start5.png end\n",
      "obtain_screenshot: img_name = start6.png\n",
      "obtain_screenshot: img_name = start6.png end\n",
      "obtain_screenshot: img_name = start7.png\n",
      "obtain_screenshot: img_name = start7.png end\n",
      "obtain_screenshot: img_name = start8.png\n",
      "obtain_screenshot: img_name = start8.png end\n",
      "obtain_screenshot: img_name = start9.png\n",
      "obtain_screenshot: img_name = start9.png end\n",
      "obtain_screenshot: img_name = start10.png\n",
      "obtain_screenshot: img_name = start10.png end\n",
      "obtain_screenshot: img_name = start11.png\n",
      "obtain_screenshot: img_name = start11.png end\n",
      "obtain_screenshot: img_name = start12.png\n",
      "obtain_screenshot: img_name = start12.png end\n",
      "obtain_screenshot: img_name = start13.png\n",
      "obtain_screenshot: img_name = start13.png end\n",
      "obtain_screenshot: img_name = start14.png\n",
      "obtain_screenshot: img_name = start14.png end\n",
      "obtain_screenshot: img_name = start15.png\n",
      "obtain_screenshot: img_name = start15.png end\n",
      "obtain_screenshot: img_name = start16.png\n",
      "obtain_screenshot: img_name = start16.png end\n",
      "obtain_screenshot: img_name = start17.png\n",
      "obtain_screenshot: img_name = start17.png end\n",
      "obtain_screenshot: img_name = start18.png\n",
      "obtain_screenshot: img_name = start18.png end\n",
      "obtain_screenshot: img_name = start19.png\n",
      "obtain_screenshot: img_name = start19.png end\n",
      "obtain_screenshot: img_name = start20.png\n",
      "obtain_screenshot: img_name = start20.png end\n",
      "obtain_screenshot: img_name = start21.png\n",
      "obtain_screenshot: img_name = start21.png end\n",
      "obtain_screenshot: img_name = start22.png\n",
      "obtain_screenshot: img_name = start22.png end\n",
      "obtain_screenshot: img_name = start23.png\n",
      "obtain_screenshot: img_name = start23.png end\n",
      "obtain_screenshot: img_name = start24.png\n",
      "obtain_screenshot: img_name = start24.png end\n",
      "obtain_screenshot: img_name = start25.png\n",
      "obtain_screenshot: img_name = start25.png end\n",
      "obtain_screenshot: img_name = start26.png\n",
      "obtain_screenshot: img_name = start26.png end\n",
      "obtain_screenshot: img_name = start27.png\n",
      "obtain_screenshot: img_name = start27.png end\n",
      "obtain_screenshot: img_name = start28.png\n",
      "obtain_screenshot: img_name = start28.png end\n",
      "obtain_screenshot: img_name = start29.png\n",
      "obtain_screenshot: img_name = start29.png end\n",
      "obtain_screenshot: img_name = start30.png\n",
      "obtain_screenshot: img_name = start30.png end\n",
      "obtain_screenshot: img_name = start31.png\n"
     ]
    },
    {
     "ename": "KeyboardInterrupt",
     "evalue": "",
     "output_type": "error",
     "traceback": [
      "\u001b[1;31m---------------------------------------------------------------------------\u001b[0m",
      "\u001b[1;31mKeyboardInterrupt\u001b[0m                         Traceback (most recent call last)",
      "Cell \u001b[1;32mIn[3], line 11\u001b[0m\n\u001b[0;32m      9\u001b[0m \u001b[38;5;28;01mwhile\u001b[39;00m \u001b[38;5;28;01mTrue\u001b[39;00m:\n\u001b[0;32m     10\u001b[0m     name \u001b[38;5;241m=\u001b[39m \u001b[38;5;124m\"\u001b[39m\u001b[38;5;124mstart\u001b[39m\u001b[38;5;124m\"\u001b[39m \u001b[38;5;241m+\u001b[39m \u001b[38;5;28mstr\u001b[39m(i) \u001b[38;5;241m+\u001b[39m \u001b[38;5;124m\"\u001b[39m\u001b[38;5;124m.png\u001b[39m\u001b[38;5;124m\"\u001b[39m\n\u001b[1;32m---> 11\u001b[0m     \u001b[43mobtain_screenshot\u001b[49m\u001b[43m(\u001b[49m\u001b[43mname\u001b[49m\u001b[43m,\u001b[49m\u001b[43m \u001b[49m\u001b[43mlocal_dir\u001b[49m\u001b[38;5;241;43m=\u001b[39;49m\u001b[43mimg_dir\u001b[49m\u001b[43m)\u001b[49m\n\u001b[0;32m     12\u001b[0m     i \u001b[38;5;241m+\u001b[39m\u001b[38;5;241m=\u001b[39m \u001b[38;5;241m1\u001b[39m\n\u001b[0;32m     13\u001b[0m     \u001b[38;5;28;01mif\u001b[39;00m i \u001b[38;5;241m>\u001b[39m \u001b[38;5;241m200\u001b[39m:\n",
      "File \u001b[1;32mc:\\Users\\97738\\Desktop\\call_me_DZG\\宴会傻瓜脚本\\ADB_control_version\\ADB_project\\functions\\functions.py:111\u001b[0m, in \u001b[0;36mobtain_screenshot\u001b[1;34m(img_name, local_dir, device, sleep_time)\u001b[0m\n\u001b[0;32m    109\u001b[0m sleep_time \u001b[38;5;241m=\u001b[39m \u001b[38;5;241m1\u001b[39m\n\u001b[0;32m    110\u001b[0m adb_screenshot \u001b[38;5;241m=\u001b[39m [\u001b[38;5;124m\"\u001b[39m\u001b[38;5;124madb\u001b[39m\u001b[38;5;124m\"\u001b[39m, \u001b[38;5;124m\"\u001b[39m\u001b[38;5;124m-s\u001b[39m\u001b[38;5;124m\"\u001b[39m, device, \u001b[38;5;124m\"\u001b[39m\u001b[38;5;124mshell\u001b[39m\u001b[38;5;124m\"\u001b[39m, \u001b[38;5;124m\"\u001b[39m\u001b[38;5;124mscreencap -p\u001b[39m\u001b[38;5;124m\"\u001b[39m, \u001b[38;5;124m\"\u001b[39m\u001b[38;5;124m/sdcard/\u001b[39m\u001b[38;5;124m\"\u001b[39m \u001b[38;5;241m+\u001b[39m img_name]\n\u001b[1;32m--> 111\u001b[0m \u001b[43msubprocess\u001b[49m\u001b[38;5;241;43m.\u001b[39;49m\u001b[43mrun\u001b[49m\u001b[43m(\u001b[49m\u001b[43madb_screenshot\u001b[49m\u001b[43m)\u001b[49m\n\u001b[0;32m    112\u001b[0m adb_pass_image \u001b[38;5;241m=\u001b[39m [\u001b[38;5;124m\"\u001b[39m\u001b[38;5;124madb\u001b[39m\u001b[38;5;124m\"\u001b[39m, \u001b[38;5;124m\"\u001b[39m\u001b[38;5;124m-s\u001b[39m\u001b[38;5;124m\"\u001b[39m, device, \u001b[38;5;124m\"\u001b[39m\u001b[38;5;124mpull\u001b[39m\u001b[38;5;124m\"\u001b[39m, \u001b[38;5;124m\"\u001b[39m\u001b[38;5;124m/sdcard/\u001b[39m\u001b[38;5;124m\"\u001b[39m\u001b[38;5;241m+\u001b[39mimg_name, local_dir\u001b[38;5;241m+\u001b[39m\u001b[38;5;124mr\u001b[39m\u001b[38;5;124m\"\u001b[39m\u001b[38;5;124m/\u001b[39m\u001b[38;5;124m\"\u001b[39m\u001b[38;5;241m+\u001b[39mimg_name]\n\u001b[0;32m    113\u001b[0m subprocess\u001b[38;5;241m.\u001b[39mrun(adb_pass_image)\n",
      "File \u001b[1;32mc:\\Users\\97738\\anaconda3\\envs\\call_me_dzg\\lib\\subprocess.py:505\u001b[0m, in \u001b[0;36mrun\u001b[1;34m(input, capture_output, timeout, check, *popenargs, **kwargs)\u001b[0m\n\u001b[0;32m    503\u001b[0m \u001b[38;5;28;01mwith\u001b[39;00m Popen(\u001b[38;5;241m*\u001b[39mpopenargs, \u001b[38;5;241m*\u001b[39m\u001b[38;5;241m*\u001b[39mkwargs) \u001b[38;5;28;01mas\u001b[39;00m process:\n\u001b[0;32m    504\u001b[0m     \u001b[38;5;28;01mtry\u001b[39;00m:\n\u001b[1;32m--> 505\u001b[0m         stdout, stderr \u001b[38;5;241m=\u001b[39m \u001b[43mprocess\u001b[49m\u001b[38;5;241;43m.\u001b[39;49m\u001b[43mcommunicate\u001b[49m\u001b[43m(\u001b[49m\u001b[38;5;28;43minput\u001b[39;49m\u001b[43m,\u001b[49m\u001b[43m \u001b[49m\u001b[43mtimeout\u001b[49m\u001b[38;5;241;43m=\u001b[39;49m\u001b[43mtimeout\u001b[49m\u001b[43m)\u001b[49m\n\u001b[0;32m    506\u001b[0m     \u001b[38;5;28;01mexcept\u001b[39;00m TimeoutExpired \u001b[38;5;28;01mas\u001b[39;00m exc:\n\u001b[0;32m    507\u001b[0m         process\u001b[38;5;241m.\u001b[39mkill()\n",
      "File \u001b[1;32mc:\\Users\\97738\\anaconda3\\envs\\call_me_dzg\\lib\\subprocess.py:1146\u001b[0m, in \u001b[0;36mPopen.communicate\u001b[1;34m(self, input, timeout)\u001b[0m\n\u001b[0;32m   1144\u001b[0m         stderr \u001b[38;5;241m=\u001b[39m \u001b[38;5;28mself\u001b[39m\u001b[38;5;241m.\u001b[39mstderr\u001b[38;5;241m.\u001b[39mread()\n\u001b[0;32m   1145\u001b[0m         \u001b[38;5;28mself\u001b[39m\u001b[38;5;241m.\u001b[39mstderr\u001b[38;5;241m.\u001b[39mclose()\n\u001b[1;32m-> 1146\u001b[0m     \u001b[38;5;28;43mself\u001b[39;49m\u001b[38;5;241;43m.\u001b[39;49m\u001b[43mwait\u001b[49m\u001b[43m(\u001b[49m\u001b[43m)\u001b[49m\n\u001b[0;32m   1147\u001b[0m \u001b[38;5;28;01melse\u001b[39;00m:\n\u001b[0;32m   1148\u001b[0m     \u001b[38;5;28;01mif\u001b[39;00m timeout \u001b[38;5;129;01mis\u001b[39;00m \u001b[38;5;129;01mnot\u001b[39;00m \u001b[38;5;28;01mNone\u001b[39;00m:\n",
      "File \u001b[1;32mc:\\Users\\97738\\anaconda3\\envs\\call_me_dzg\\lib\\subprocess.py:1209\u001b[0m, in \u001b[0;36mPopen.wait\u001b[1;34m(self, timeout)\u001b[0m\n\u001b[0;32m   1207\u001b[0m     endtime \u001b[38;5;241m=\u001b[39m _time() \u001b[38;5;241m+\u001b[39m timeout\n\u001b[0;32m   1208\u001b[0m \u001b[38;5;28;01mtry\u001b[39;00m:\n\u001b[1;32m-> 1209\u001b[0m     \u001b[38;5;28;01mreturn\u001b[39;00m \u001b[38;5;28;43mself\u001b[39;49m\u001b[38;5;241;43m.\u001b[39;49m\u001b[43m_wait\u001b[49m\u001b[43m(\u001b[49m\u001b[43mtimeout\u001b[49m\u001b[38;5;241;43m=\u001b[39;49m\u001b[43mtimeout\u001b[49m\u001b[43m)\u001b[49m\n\u001b[0;32m   1210\u001b[0m \u001b[38;5;28;01mexcept\u001b[39;00m \u001b[38;5;167;01mKeyboardInterrupt\u001b[39;00m:\n\u001b[0;32m   1211\u001b[0m     \u001b[38;5;66;03m# https://bugs.python.org/issue25942\u001b[39;00m\n\u001b[0;32m   1212\u001b[0m     \u001b[38;5;66;03m# The first keyboard interrupt waits briefly for the child to\u001b[39;00m\n\u001b[0;32m   1213\u001b[0m     \u001b[38;5;66;03m# exit under the common assumption that it also received the ^C\u001b[39;00m\n\u001b[0;32m   1214\u001b[0m     \u001b[38;5;66;03m# generated SIGINT and will exit rapidly.\u001b[39;00m\n\u001b[0;32m   1215\u001b[0m     \u001b[38;5;28;01mif\u001b[39;00m timeout \u001b[38;5;129;01mis\u001b[39;00m \u001b[38;5;129;01mnot\u001b[39;00m \u001b[38;5;28;01mNone\u001b[39;00m:\n",
      "File \u001b[1;32mc:\\Users\\97738\\anaconda3\\envs\\call_me_dzg\\lib\\subprocess.py:1506\u001b[0m, in \u001b[0;36mPopen._wait\u001b[1;34m(self, timeout)\u001b[0m\n\u001b[0;32m   1503\u001b[0m     timeout_millis \u001b[38;5;241m=\u001b[39m \u001b[38;5;28mint\u001b[39m(timeout \u001b[38;5;241m*\u001b[39m \u001b[38;5;241m1000\u001b[39m)\n\u001b[0;32m   1504\u001b[0m \u001b[38;5;28;01mif\u001b[39;00m \u001b[38;5;28mself\u001b[39m\u001b[38;5;241m.\u001b[39mreturncode \u001b[38;5;129;01mis\u001b[39;00m \u001b[38;5;28;01mNone\u001b[39;00m:\n\u001b[0;32m   1505\u001b[0m     \u001b[38;5;66;03m# API note: Returns immediately if timeout_millis == 0.\u001b[39;00m\n\u001b[1;32m-> 1506\u001b[0m     result \u001b[38;5;241m=\u001b[39m \u001b[43m_winapi\u001b[49m\u001b[38;5;241;43m.\u001b[39;49m\u001b[43mWaitForSingleObject\u001b[49m\u001b[43m(\u001b[49m\u001b[38;5;28;43mself\u001b[39;49m\u001b[38;5;241;43m.\u001b[39;49m\u001b[43m_handle\u001b[49m\u001b[43m,\u001b[49m\n\u001b[0;32m   1507\u001b[0m \u001b[43m                                         \u001b[49m\u001b[43mtimeout_millis\u001b[49m\u001b[43m)\u001b[49m\n\u001b[0;32m   1508\u001b[0m     \u001b[38;5;28;01mif\u001b[39;00m result \u001b[38;5;241m==\u001b[39m _winapi\u001b[38;5;241m.\u001b[39mWAIT_TIMEOUT:\n\u001b[0;32m   1509\u001b[0m         \u001b[38;5;28;01mraise\u001b[39;00m TimeoutExpired(\u001b[38;5;28mself\u001b[39m\u001b[38;5;241m.\u001b[39margs, timeout)\n",
      "\u001b[1;31mKeyboardInterrupt\u001b[0m: "
     ]
    }
   ],
   "source": [
    "import os\n",
    "img_root = \"imgs/\"\n",
    "new_img_dir = \"start/\"\n",
    "img_dir = img_root + new_img_dir\n",
    "\n",
    "if not os.path.exists(img_dir):\n",
    "    os.makedirs(img_dir)\n",
    "i = 0\n",
    "while True:\n",
    "    name = \"start\" + str(i) + \".png\"\n",
    "    obtain_screenshot(name, local_dir=img_dir)\n",
    "    i += 1\n",
    "    if i > 200:\n",
    "        break"
   ]
  },
  {
   "cell_type": "code",
   "execution_count": null,
   "metadata": {},
   "outputs": [],
   "source": [
    "start_apk_game()"
   ]
  },
  {
   "cell_type": "code",
   "execution_count": null,
   "metadata": {},
   "outputs": [],
   "source": [
    "import os\n",
    "\n",
    "for i in range(10):\n",
    "    img = \"imgs/luo_tuo\"\n",
    "    old_name = f\"{img}{i}.png\"\n",
    "    new_name = f\"{img}{i+10}.png\"\n",
    "    try:\n",
    "        os.rename(old_name, new_name)\n",
    "        print(f\"Renamed '{old_name}' to '{new_name}'\")\n",
    "    except FileNotFoundError:\n",
    "        print(f\"File '{old_name}' not found.\")\n",
    "    except OSError as e:\n",
    "        print(f\"Error occurred while renaming '{old_name}': {e}\")"
   ]
  },
  {
   "cell_type": "code",
   "execution_count": null,
   "metadata": {},
   "outputs": [],
   "source": [
    "import os\n",
    "print(os.getcwd())"
   ]
  }
 ],
 "metadata": {
  "kernelspec": {
   "display_name": "call_me_dzg",
   "language": "python",
   "name": "python3"
  },
  "language_info": {
   "codemirror_mode": {
    "name": "ipython",
    "version": 3
   },
   "file_extension": ".py",
   "mimetype": "text/x-python",
   "name": "python",
   "nbconvert_exporter": "python",
   "pygments_lexer": "ipython3",
   "version": "3.10.14"
  }
 },
 "nbformat": 4,
 "nbformat_minor": 2
}
